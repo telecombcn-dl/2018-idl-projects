{
 "cells": [
  {
   "cell_type": "code",
   "execution_count": 3,
   "metadata": {},
   "outputs": [
    {
     "name": "stderr",
     "output_type": "stream",
     "text": [
      "Using TensorFlow backend.\n",
      "/home/team3_idl/env/lib/python3.6/importlib/_bootstrap.py:219: RuntimeWarning: compiletime version 3.5 of module 'tensorflow.python.framework.fast_tensor_util' does not match runtime version 3.6\n",
      "  return f(*args, **kwds)\n"
     ]
    }
   ],
   "source": [
    "%matplotlib inline\n",
    "import numpy as np\n",
    "from keras.models import Sequential\n",
    "from keras.layers import Dense, Dropout, Flatten\n",
    "from keras.layers.convolutional import Conv2D, MaxPooling2D\n",
    "from keras.datasets import mnist\n",
    "from keras.utils import np_utils\n",
    "import matplotlib.pyplot as plt"
   ]
  },
  {
   "cell_type": "code",
   "execution_count": 4,
   "metadata": {},
   "outputs": [
    {
     "name": "stdout",
     "output_type": "stream",
     "text": [
      "(60000, 28, 28, 1)\n"
     ]
    }
   ],
   "source": [
    "# load data\n",
    "(X_train, y_train), (X_test, y_test) = mnist.load_data()\n",
    "# reshape to be [samples][width][height][channels]\n",
    "X_train = X_train.reshape(X_train.shape[0], 28, 28, 1).astype('float32')\n",
    "X_test = X_test.reshape(X_test.shape[0], 28, 28, 1).astype('float32')\n",
    "# normalize inputs from 0-255 to 0-1\n",
    "X_train = X_train / 255.\n",
    "X_test = X_test / 255.\n",
    "print(X_train.shape)"
   ]
  },
  {
   "cell_type": "code",
   "execution_count": 5,
   "metadata": {},
   "outputs": [],
   "source": [
    "y_train = np_utils.to_categorical(y_train)\n",
    "y_test = np_utils.to_categorical(y_test)\n",
    "num_classes = y_test.shape[1]"
   ]
  },
  {
   "cell_type": "code",
   "execution_count": 6,
   "metadata": {},
   "outputs": [],
   "source": [
    "def evaluate_with_activation(input_layer_activation, hidden_layer_activation, output_layer_activation):\n",
    "    model = Sequential()\n",
    "    model.add(Conv2D(32, (5, 5), input_shape=(28, 28, 1), activation=input_layer_activation))\n",
    "    model.add(MaxPooling2D(pool_size=(2, 2)))\n",
    "    model.add(Dropout(0.2))\n",
    "    model.add(Flatten())\n",
    "\n",
    "    model.add(Dense(128, activation=hidden_layer_activation))\n",
    "    model.add(Dense(num_classes, activation=output_layer_activation))\n",
    "    model.compile(loss='categorical_crossentropy', optimizer='adam', metrics=['accuracy'])\n",
    "    history = model.fit(X_train, y_train, validation_data=(X_test, y_test), epochs=12, batch_size=200, verbose=0)\n",
    "    \n",
    "    scores = model.evaluate(X_test, y_test, verbose=0)\n",
    "    print('\\n==========================================')\n",
    "    print('With input layer activation: {}, hidden layer activation: {}, output layer activation: {} '.format(input_layer_activation, hidden_layer_activation, output_layer_activation))\n",
    "    print(\"Baseline Error: %.2f%%\" % (100-scores[1]*100))\n",
    "    return (100-scores[1]*100)"
   ]
  },
  {
   "cell_type": "code",
   "execution_count": 8,
   "metadata": {},
   "outputs": [
    {
     "name": "stdout",
     "output_type": "stream",
     "text": [
      "\n",
      "==========================================\n",
      "With input layer activation: sigmoid, hidden layer activation: sigmoid, output layer activation: softmax \n",
      "Baseline Error: 1.88%\n",
      "\n",
      "==========================================\n",
      "With input layer activation: relu, hidden layer activation: relu, output layer activation: softmax \n",
      "Baseline Error: 1.01%\n",
      "\n",
      "==========================================\n",
      "With input layer activation: tanh, hidden layer activation: tanh, output layer activation: softmax \n",
      "Baseline Error: 1.42%\n"
     ]
    },
    {
     "data": {
      "image/png": "[encoded data removed]",
      "text/plain": [
       "<matplotlib.figure.Figure at 0x7fb423004c50>"
      ]
     },
     "metadata": {},
     "output_type": "display_data"
    }
   ],
   "source": [
    "errors = []\n",
    "#for n_layers in range(1, 6):\n",
    "errors.append(evaluate_with_activation( 'sigmoid', 'sigmoid', 'softmax'))\n",
    "errors.append(evaluate_with_activation( 'relu', 'relu', 'softmax'))\n",
    "errors.append(evaluate_with_activation( 'tanh', 'tanh', 'softmax'))\n",
    "\n",
    "#x_axis = [x for x in range(1, len(errors) +1)]\n",
    "#plt.plot(x_axis, errors)\n",
    "\n",
    "x = [1,2,3]\n",
    "\n",
    "my_xticks = ['sigmoid','relu','tanh']\n",
    "plt.xticks(x, my_xticks)\n",
    "plt.plot(x, errors, 'b^')\n",
    "plt.ylabel('Error loss')\n",
    "plt.xlabel('Activation')\n",
    "plt.show()\n"
   ]
  },
  {
   "cell_type": "code",
   "execution_count": 13,
   "metadata": {},
   "outputs": [],
   "source": [
    "def mean(numbers):\n",
    "    return float(sum(numbers)) / max(len(numbers), 1)"
   ]
  },
  {
   "cell_type": "code",
   "execution_count": 15,
   "metadata": {},
   "outputs": [
    {
     "name": "stdout",
     "output_type": "stream",
     "text": [
      "\n",
      "==========================================\n",
      "With input layer activation: sigmoid, hidden layer activation: sigmoid, output layer activation: softmax \n",
      "Baseline Error: 5.28%\n",
      "\n",
      "==========================================\n",
      "With input layer activation: relu, hidden layer activation: relu, output layer activation: softmax \n",
      "Baseline Error: 1.41%\n",
      "\n",
      "==========================================\n",
      "With input layer activation: tanh, hidden layer activation: tanh, output layer activation: softmax \n",
      "Baseline Error: 1.48%\n",
      "\n",
      "==========================================\n",
      "With input layer activation: sigmoid, hidden layer activation: sigmoid, output layer activation: softmax \n",
      "Baseline Error: 5.05%\n",
      "\n",
      "==========================================\n",
      "With input layer activation: relu, hidden layer activation: relu, output layer activation: softmax \n",
      "Baseline Error: 1.37%\n",
      "\n",
      "==========================================\n",
      "With input layer activation: tanh, hidden layer activation: tanh, output layer activation: softmax \n",
      "Baseline Error: 1.49%\n",
      "\n",
      "==========================================\n",
      "With input layer activation: sigmoid, hidden layer activation: sigmoid, output layer activation: softmax \n",
      "Baseline Error: 5.35%\n",
      "\n",
      "==========================================\n",
      "With input layer activation: relu, hidden layer activation: relu, output layer activation: softmax \n",
      "Baseline Error: 1.28%\n",
      "\n",
      "==========================================\n",
      "With input layer activation: tanh, hidden layer activation: tanh, output layer activation: softmax \n",
      "Baseline Error: 1.61%\n",
      "\n",
      "==========================================\n",
      "With input layer activation: sigmoid, hidden layer activation: sigmoid, output layer activation: softmax \n",
      "Baseline Error: 4.66%\n",
      "\n",
      "==========================================\n",
      "With input layer activation: relu, hidden layer activation: relu, output layer activation: softmax \n",
      "Baseline Error: 1.20%\n",
      "\n",
      "==========================================\n",
      "With input layer activation: tanh, hidden layer activation: tanh, output layer activation: softmax \n",
      "Baseline Error: 1.51%\n",
      "\n",
      "==========================================\n",
      "With input layer activation: sigmoid, hidden layer activation: sigmoid, output layer activation: softmax \n",
      "Baseline Error: 4.97%\n",
      "\n",
      "==========================================\n",
      "With input layer activation: relu, hidden layer activation: relu, output layer activation: softmax \n",
      "Baseline Error: 1.18%\n",
      "\n",
      "==========================================\n",
      "With input layer activation: tanh, hidden layer activation: tanh, output layer activation: softmax \n",
      "Baseline Error: 1.48%\n",
      "\n",
      "==========================================\n",
      "With input layer activation: sigmoid, hidden layer activation: sigmoid, output layer activation: softmax \n",
      "Baseline Error: 4.13%\n",
      "\n",
      "==========================================\n",
      "With input layer activation: relu, hidden layer activation: relu, output layer activation: softmax \n",
      "Baseline Error: 1.29%\n",
      "\n",
      "==========================================\n",
      "With input layer activation: tanh, hidden layer activation: tanh, output layer activation: softmax \n",
      "Baseline Error: 1.32%\n",
      "\n",
      "==========================================\n",
      "With input layer activation: sigmoid, hidden layer activation: sigmoid, output layer activation: softmax \n",
      "Baseline Error: 5.28%\n",
      "\n",
      "==========================================\n",
      "With input layer activation: relu, hidden layer activation: relu, output layer activation: softmax \n",
      "Baseline Error: 1.18%\n",
      "\n",
      "==========================================\n",
      "With input layer activation: tanh, hidden layer activation: tanh, output layer activation: softmax \n",
      "Baseline Error: 1.35%\n",
      "\n",
      "==========================================\n",
      "With input layer activation: sigmoid, hidden layer activation: sigmoid, output layer activation: softmax \n",
      "Baseline Error: 4.88%\n",
      "\n",
      "==========================================\n",
      "With input layer activation: relu, hidden layer activation: relu, output layer activation: softmax \n",
      "Baseline Error: 1.00%\n",
      "\n",
      "==========================================\n",
      "With input layer activation: tanh, hidden layer activation: tanh, output layer activation: softmax \n",
      "Baseline Error: 1.49%\n",
      "\n",
      "==========================================\n",
      "With input layer activation: sigmoid, hidden layer activation: sigmoid, output layer activation: softmax \n",
      "Baseline Error: 4.48%\n",
      "\n",
      "==========================================\n",
      "With input layer activation: relu, hidden layer activation: relu, output layer activation: softmax \n",
      "Baseline Error: 1.23%\n",
      "\n",
      "==========================================\n",
      "With input layer activation: tanh, hidden layer activation: tanh, output layer activation: softmax \n",
      "Baseline Error: 1.37%\n",
      "\n",
      "==========================================\n",
      "With input layer activation: sigmoid, hidden layer activation: sigmoid, output layer activation: softmax \n",
      "Baseline Error: 5.61%\n",
      "\n",
      "==========================================\n",
      "With input layer activation: relu, hidden layer activation: relu, output layer activation: softmax \n",
      "Baseline Error: 1.24%\n",
      "\n",
      "==========================================\n",
      "With input layer activation: tanh, hidden layer activation: tanh, output layer activation: softmax \n",
      "Baseline Error: 1.70%\n"
     ]
    },
    {
     "data": {
      "image/png": "[encoded data removed]",
      "text/plain": [
       "<matplotlib.figure.Figure at 0x7f5f9db0cef0>"
      ]
     },
     "metadata": {},
     "output_type": "display_data"
    },
    {
     "data": {
      "image/png": "[encoded data removed]",
      "text/plain": [
       "<matplotlib.figure.Figure at 0x7f5fecae7470>"
      ]
     },
     "metadata": {},
     "output_type": "display_data"
    },
    {
     "data": {
      "image/png": "[encoded data removed]",
      "text/plain": [
       "<matplotlib.figure.Figure at 0x7f5f9e9ae080>"
      ]
     },
     "metadata": {},
     "output_type": "display_data"
    },
    {
     "name": "stdout",
     "output_type": "stream",
     "text": [
      "Mean of the iterations: \n",
      "Sigmoid: 4.968999999999997\n",
      "Relu: 1.2380000000000024\n",
      "Tanh: 1.4800000000000026\n"
     ]
    }
   ],
   "source": [
    "# In order to calculate the mean of 10 iterations of the error:\n",
    "h1_errors = []\n",
    "h2_errors = []\n",
    "h3_errors = []\n",
    "for i in range(10):\n",
    "    h1_errors.append(evaluate_with_activation('sigmoid', 'sigmoid', 'softmax'))\n",
    "    h2_errors.append(evaluate_with_activation( 'relu', 'relu', 'softmax'))\n",
    "    h3_errors.append(evaluate_with_activation( 'tanh', 'tanh', 'softmax'))\n",
    "    \n",
    "x = [i + 1 for i in range(10)]\n",
    "plt.plot(x, h1_errors)\n",
    "plt.title('Sigmoid Activation')\n",
    "plt.ylabel('Error Loss')\n",
    "plt.xlabel('Iteration')\n",
    "plt.show()\n",
    "\n",
    "plt.plot(x, h2_errors)\n",
    "plt.title('Relu Activation')\n",
    "plt.ylabel('Error Loss')\n",
    "plt.xlabel('Iteration')\n",
    "plt.show()\n",
    "\n",
    "plt.plot(x, h3_errors)\n",
    "plt.title('Tanh Activation')\n",
    "plt.ylabel('Error Loss')\n",
    "plt.xlabel('Iteration')\n",
    "plt.show()\n",
    "\n",
    "\n",
    "mean_h1 = mean(h1_errors)\n",
    "mean_h2 = mean(h2_errors)\n",
    "mean_h3 = mean(h3_errors)\n",
    "\n",
    "print('Mean of the iterations: \\nSigmoid: {}\\nRelu: {}\\nTanh: {}'.format(mean_h1, mean_h2, mean_h3))"
   ]
  },
  {
   "cell_type": "markdown",
   "metadata": {},
   "source": [
    "After running the 10 iterations we have obtained the following errors:\n",
    "```\n",
    "Sigmoid:\n",
    "['5.28', '5.05', '5.35', '4.66', '4.97', '4.13', '5.28', '4.88', '4.48', '5.61']\n",
    "\n",
    "Relu:\n",
    "['1.41', '1.37', '1.28', '1.20', '1.18', '1.29', '1.18', '1.00', '1.23', '1.24']\n",
    " \n",
    " Tanh:\n",
    "['1.48', '1.49', '1.61', '1.51', '1.48', '1.32', '1.35', '1.49', '1.37', '1.70']\n",
    " \n",
    "\n",
    "Mean of the errors: \n",
    "Sigmoid: 4.968\n",
    "Relu: 1.238\n",
    "Tanh: 1.480\n",
    "```\n",
    "\n"
   ]
  },
  {
   "cell_type": "code",
   "execution_count": 31,
   "metadata": {},
   "outputs": [
    {
     "data": {
      "image/png": "[encoded data removed]",
      "text/plain": [
       "<matplotlib.figure.Figure at 0x7f5f9d654780>"
      ]
     },
     "metadata": {},
     "output_type": "display_data"
    }
   ],
   "source": [
    "x = [1,2,3]\n",
    "errors = [mean_h1, mean_h2, mean_h3]\n",
    "my_xticks = ['sigmoid','relu','tanh']\n",
    "plt.xticks(x, my_xticks)\n",
    "plt.plot(x, errors, 'b^')\n",
    "plt.ylabel('Error loss')\n",
    "plt.xlabel('Activation')\n",
    "plt.show()"
   ]
  },
  {
   "cell_type": "markdown",
   "metadata": {},
   "source": [
    "After noticing that the error is not that much variable between iterations we only will take one iteration for each combination in order to validate the result.\n"
   ]
  },
  {
   "cell_type": "code",
   "execution_count": 9,
   "metadata": {},
   "outputs": [
    {
     "name": "stdout",
     "output_type": "stream",
     "text": [
      "\n",
      "==========================================\n",
      "With input layer activation: sigmoid, hidden layer activation: relu, output layer activation: softmax \n",
      "Baseline Error: 88.65%\n",
      "\n",
      "==========================================\n",
      "With input layer activation: relu, hidden layer activation: sigmoid, output layer activation: softmax \n",
      "Baseline Error: 0.97%\n",
      "\n",
      "==========================================\n",
      "With input layer activation: relu, hidden layer activation: tanh, output layer activation: softmax \n",
      "Baseline Error: 1.02%\n",
      "\n",
      "==========================================\n",
      "With input layer activation: tanh, hidden layer activation: relu, output layer activation: softmax \n",
      "Baseline Error: 1.45%\n",
      "\n",
      "==========================================\n",
      "With input layer activation: sigmoid, hidden layer activation: tanh, output layer activation: softmax \n",
      "Baseline Error: 88.65%\n",
      "\n",
      "==========================================\n",
      "With input layer activation: tanh, hidden layer activation: sigmoid, output layer activation: softmax \n",
      "Baseline Error: 1.24%\n"
     ]
    },
    {
     "data": {
      "image/png": "[encoded data removed]",
      "text/plain": [
       "<matplotlib.figure.Figure at 0x7fb415c4def0>"
      ]
     },
     "metadata": {},
     "output_type": "display_data"
    }
   ],
   "source": [
    "errors = []\n",
    "\n",
    "errors.append(evaluate_with_activation( 'sigmoid', 'relu', 'softmax'))\n",
    "errors.append(evaluate_with_activation( 'relu', 'sigmoid', 'softmax'))\n",
    "errors.append(evaluate_with_activation( 'relu', 'tanh', 'softmax'))\n",
    "errors.append(evaluate_with_activation( 'tanh', 'relu', 'softmax'))\n",
    "errors.append(evaluate_with_activation( 'sigmoid', 'tanh', 'softmax'))\n",
    "errors.append(evaluate_with_activation( 'tanh', 'sigmoid', 'softmax'))\n",
    "\n",
    "\n",
    "x = [1,2,3,4,5,6]\n",
    "\n",
    "my_xticks = ['sigmoid-relu','relu-sigmoid','ralu-tanh', 'tanh-relu','sigmoid-tanh','tanh-sigmoid']\n",
    "plt.xticks(x, my_xticks)\n",
    "plt.xticks(rotation=90)\n",
    "plt.plot(x, errors, 'b^')\n",
    "plt.ylabel('Error loss')\n",
    "plt.xlabel('Activation')\n",
    "plt.show()"
   ]
  },
  {
   "cell_type": "markdown",
   "metadata": {},
   "source": [
    "After evaluating the previous code, we obtain the following errors:\n",
    "```\n",
    "'relu-tanh': 1.02,\n",
    "'relu-sigmoid': 0.97,\n",
    "'sigmoid-relu': 88.65,\n",
    "'sigmoid-tanh': 88.65,\n",
    "'tanh-relu': 1.45,\n",
    "'tanh-sigmoid': 1.24\n",
    "```\n",
    "\n",
    "We can observe that combining sigmoid with other activations (in this order) ends in huge errors.\n",
    "\n"
   ]
  },
  {
   "cell_type": "markdown",
   "metadata": {},
   "source": [
    "Looking at the results we can conclude that the best activation (at least for this data) is the Relu-Sigmoid."
   ]
  },
  {
   "cell_type": "markdown",
   "metadata": {},
   "source": [
    "\n",
    "\n"
   ]
  }
 ],
 "metadata": {
  "kernelspec": {
   "display_name": "Python 3",
   "language": "python",
   "name": "python3"
  },
  "language_info": {
   "codemirror_mode": {
    "name": "ipython",
    "version": 3
   },
   "file_extension": ".py",
   "mimetype": "text/x-python",
   "name": "python",
   "nbconvert_exporter": "python",
   "pygments_lexer": "ipython3",
   "version": "3.6.3"
  }
 },
 "nbformat": 4,
 "nbformat_minor": 2
}
